{
 "cells": [
  {
   "cell_type": "code",
   "execution_count": 1,
   "metadata": {},
   "outputs": [
    {
     "data": {
      "text/html": [
       "<div>\n",
       "<style scoped>\n",
       "    .dataframe tbody tr th:only-of-type {\n",
       "        vertical-align: middle;\n",
       "    }\n",
       "\n",
       "    .dataframe tbody tr th {\n",
       "        vertical-align: top;\n",
       "    }\n",
       "\n",
       "    .dataframe thead th {\n",
       "        text-align: right;\n",
       "    }\n",
       "</style>\n",
       "<table border=\"1\" class=\"dataframe\">\n",
       "  <thead>\n",
       "    <tr style=\"text-align: right;\">\n",
       "      <th></th>\n",
       "      <th>time</th>\n",
       "      <th>count_rate</th>\n",
       "    </tr>\n",
       "  </thead>\n",
       "  <tbody>\n",
       "    <tr>\n",
       "      <td>0</td>\n",
       "      <td>5</td>\n",
       "      <td>28</td>\n",
       "    </tr>\n",
       "    <tr>\n",
       "      <td>1</td>\n",
       "      <td>10</td>\n",
       "      <td>29</td>\n",
       "    </tr>\n",
       "    <tr>\n",
       "      <td>2</td>\n",
       "      <td>15</td>\n",
       "      <td>28</td>\n",
       "    </tr>\n",
       "  </tbody>\n",
       "</table>\n",
       "</div>"
      ],
      "text/plain": [
       "   time  count_rate\n",
       "0     5          28\n",
       "1    10          29\n",
       "2    15          28"
      ]
     },
     "execution_count": 1,
     "metadata": {},
     "output_type": "execute_result"
    }
   ],
   "source": [
    "import numpy as np\n",
    "from scipy import optimize\n",
    "import scipy.stats as sts\n",
    "import matplotlib.pyplot as plt\n",
    "import seaborn as sns\n",
    "sns.set()\n",
    "%matplotlib inline\n",
    "import pandas as pd\n",
    "\n",
    "# Omit the first data point (which includes knowledge of N_0)\n",
    "url = 'https://gist.githubusercontent.com/raquelhr/d1324510056353feeccf111d6b186a0d/raw/7b3bccc7917f3baa7ec1d919195d120083ee75e9/proctatinium_data.csv'\n",
    "data = pd.read_csv(url, skiprows=[1])\n",
    "\n",
    "# Cast data as float, to overcome issues with numerical precision\n",
    "t_values = np.array(data['time'], dtype=float)\n",
    "count_values = np.array(data['count_rate'], dtype=float)\n",
    "\n",
    "data.head(3)  # Take a quick look at the data"
   ]
  },
  {
   "cell_type": "code",
   "execution_count": 2,
   "metadata": {},
   "outputs": [
    {
     "data": {
      "image/png": "[encoded data removed]",
      "text/plain": [
       "<Figure size 432x360 with 1 Axes>"
      ]
     },
     "metadata": {
      "needs_background": "light"
     },
     "output_type": "display_data"
    }
   ],
   "source": [
    "# Plot the data\n",
    "plt.figure(figsize=(6, 5))\n",
    "plt.scatter(t_values, count_values, s=10)\n",
    "plt.xlabel('Time')\n",
    "plt.ylabel('Count rate')\n",
    "plt.show()"
   ]
  },
  {
   "cell_type": "code",
   "execution_count": 3,
   "metadata": {},
   "outputs": [],
   "source": [
    "def fit_decay(t, theta):\n",
    "    '''\n",
    "    The function we are trying to fit to the data, described in Eq. (1) of the\n",
    "    Study Guide. It is an exponential decay function with parameters theta =\n",
    "    (N₀, λ).\n",
    "\n",
    "    Inputs:\n",
    "\n",
    "      t - The time at which we are counting the number of decayed isotopes.\n",
    "          theta - The parameters of the function.\n",
    "\n",
    "    Returns: the number of radioactive isotopes that decayed at time t.\n",
    "    '''\n",
    "    return theta[0] * np.exp(-theta[1] * t)\n",
    "\n",
    "\n",
    "def log_likelihood(t_values, count_values, theta):\n",
    "    '''\n",
    "    Compute the natural logarithm of the likelihood function for a given set of\n",
    "    parameters.\n",
    "\n",
    "    Inputs:\n",
    "\n",
    "      t_values_raw, count_values - The data set, containing the time values at\n",
    "          which we counted the decayed isotopes, and the number of isotopes that\n",
    "          decayed.\n",
    "      theta - The parameters of our model, namely N₀ and λ of the exponential\n",
    "          decay function.\n",
    "    '''\n",
    "    fit_values = fit_decay(t_values, theta)\n",
    "    squared_error = np.sum((fit_values - count_values) ** 2)\n",
    "    return -squared_error / len(t_values)"
   ]
  },
  {
   "cell_type": "code",
   "execution_count": 20,
   "metadata": {},
   "outputs": [
    {
     "name": "stderr",
     "output_type": "stream",
     "text": [
      "/Library/Frameworks/Python.framework/Versions/3.7/lib/python3.7/site-packages/ipykernel_launcher.py:31: RuntimeWarning: overflow encountered in square\n",
      "/Library/Frameworks/Python.framework/Versions/3.7/lib/python3.7/site-packages/ipykernel_launcher.py:14: RuntimeWarning: overflow encountered in exp\n",
      "  \n",
      "/Library/Frameworks/Python.framework/Versions/3.7/lib/python3.7/site-packages/ipykernel_launcher.py:14: RuntimeWarning: overflow encountered in multiply\n",
      "  \n"
     ]
    }
   ],
   "source": [
    "theta_guess = [1, 1]  # Notice these are completely off-target!\n",
    "\n",
    "current_log_likelihood = log_likelihood(t_values, count_values, theta_guess)\n",
    "\n",
    "mcmc_results = []  # Store the proposals for the parameters in a list\n",
    "n_trials = 1000   # Number of trials, or iterations, to be run\n",
    "np.random.seed(seed=123)  # Set the seed for reproducibility\n",
    "\n",
    "for i in range(n_trials):\n",
    "    # Propose new theta using random noise\n",
    "    new_theta = theta_guess + sts.norm.rvs(0, 1, size=len(theta_guess))\n",
    "\n",
    "    # TASK: Compute the new log likelihood using the new theta value.\n",
    "\n",
    "    new_log_likelihood = log_likelihood(t_values, count_values, new_theta)\n",
    "\n",
    "    # TASK: Compute the likelihood ratio defined in the MCMC algorithm above.\n",
    "\n",
    "    r = np.exp(new_log_likelihood-current_log_likelihood)\n",
    "\n",
    "    # TASK: Use r to decide whether or not to accept the proposed new theta or\n",
    "    # keep the old theta.\n",
    "    if np.random.random()<r:\n",
    "        theta_guess = new_theta\n",
    "        current_log_likelihood = new_log_likelihood\n",
    "    mcmc_results.append(theta_guess)"
   ]
  },
  {
   "cell_type": "code",
   "execution_count": 21,
   "metadata": {},
   "outputs": [
    {
     "data": {
      "text/plain": [
       "(1000, 2)"
      ]
     },
     "execution_count": 21,
     "metadata": {},
     "output_type": "execute_result"
    }
   ],
   "source": [
    "mcmc_results = np.array(mcmc_results)\n",
    "mcmc_results.shape"
   ]
  },
  {
   "cell_type": "code",
   "execution_count": 22,
   "metadata": {},
   "outputs": [
    {
     "data": {
      "image/png": "[encoded data removed]",
      "text/plain": [
       "<Figure size 576x576 with 1 Axes>"
      ]
     },
     "metadata": {
      "needs_background": "light"
     },
     "output_type": "display_data"
    }
   ],
   "source": [
    "plt.figure(figsize=(8,8))\n",
    "plt.hist(mcmc_results[:, 0])\n",
    "plt.show()"
   ]
  },
  {
   "cell_type": "code",
   "execution_count": 23,
   "metadata": {},
   "outputs": [
    {
     "data": {
      "image/png": "[encoded data removed]",
      "text/plain": [
       "<Figure size 576x576 with 1 Axes>"
      ]
     },
     "metadata": {
      "needs_background": "light"
     },
     "output_type": "display_data"
    }
   ],
   "source": [
    "plt.figure(figsize=(8,8))\n",
    "plt.hist(mcmc_results[:, 1])\n",
    "plt.show()"
   ]
  },
  {
   "cell_type": "code",
   "execution_count": null,
   "metadata": {},
   "outputs": [],
   "source": []
  }
 ],
 "metadata": {
  "kernelspec": {
   "display_name": "Python 3",
   "language": "python",
   "name": "python3"
  },
  "language_info": {
   "codemirror_mode": {
    "name": "ipython",
    "version": 3
   },
   "file_extension": ".py",
   "mimetype": "text/x-python",
   "name": "python",
   "nbconvert_exporter": "python",
   "pygments_lexer": "ipython3",
   "version": "3.7.2"
  }
 },
 "nbformat": 4,
 "nbformat_minor": 2
}
