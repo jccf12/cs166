{
 "cells": [
  {
   "cell_type": "code",
   "execution_count": 1,
   "metadata": {},
   "outputs": [],
   "source": [
    "import numpy as np\n",
    "import matplotlib.pyplot as plt    "
   ]
  },
  {
   "cell_type": "code",
   "execution_count": 8,
   "metadata": {},
   "outputs": [
    {
     "data": {
      "image/png": "[encoded data removed]",
      "text/plain": [
       "<Figure size 576x576 with 1 Axes>"
      ]
     },
     "metadata": {
      "needs_background": "light"
     },
     "output_type": "display_data"
    },
    {
     "name": "stdout",
     "output_type": "stream",
     "text": [
      "One must expect to have 538.769251326919 after 20 steps, with a 95% confidence interval = (-545.6951287388363, 1623.2336313926742)\n"
     ]
    }
   ],
   "source": [
    "results = []\n",
    "for i in range(1000):\n",
    "    x = 250\n",
    "    for s in range(20):\n",
    "        if np.random.random() < 0.6: \n",
    "            x = 1.2*x \n",
    "        else:\n",
    "            x = 0.8*x\n",
    "    results.append(x)\n",
    "\n",
    "plt.figure(figsize=(8,8))\n",
    "plt.hist(results, bins=20)\n",
    "plt.show()\n",
    "mu = np.mean(results)\n",
    "std = np.std(results)\n",
    "confint = (mu-1.96*std,mu+1.96*std)\n",
    "print('One must expect to have {} after 20 steps, with a 95% confidence interval = {}'.format(mu,confint))"
   ]
  }
 ],
 "metadata": {
  "kernelspec": {
   "display_name": "Python 3",
   "language": "python",
   "name": "python3"
  },
  "language_info": {
   "codemirror_mode": {
    "name": "ipython",
    "version": 3
   },
   "file_extension": ".py",
   "mimetype": "text/x-python",
   "name": "python",
   "nbconvert_exporter": "python",
   "pygments_lexer": "ipython3",
   "version": "3.7.2"
  }
 },
 "nbformat": 4,
 "nbformat_minor": 2
}
