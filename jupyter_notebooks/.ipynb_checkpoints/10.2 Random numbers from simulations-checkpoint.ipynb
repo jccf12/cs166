{
 "cells": [
  {
   "cell_type": "code",
   "execution_count": 238,
   "metadata": {},
   "outputs": [],
   "source": [
    "import numpy as np\n",
    "import scipy\n",
    "import matplotlib.pyplot as plt\n",
    "import seaborn as sns\n",
    "sns.set()\n",
    "import random as rd"
   ]
  },
  {
   "cell_type": "code",
   "execution_count": 239,
   "metadata": {},
   "outputs": [],
   "source": [
    "x = [0.8, 0.6, 0.4, 2]\n",
    "norm_x = np.array(x)/np.sum(x)\n",
    "p = np.cumsum(x)\n",
    "sample = p.searchsorted(np.random.uniform(0, 1))"
   ]
  },
  {
   "cell_type": "code",
   "execution_count": 88,
   "metadata": {},
   "outputs": [],
   "source": [
    "#interarrival time for a city bus has exponential distribution with parameter 1/lambda."
   ]
  },
  {
   "cell_type": "code",
   "execution_count": 138,
   "metadata": {},
   "outputs": [],
   "source": [
    "def sample_exp_dist(lmbda=1/10):\n",
    "    p = rd.random()\n",
    "    return -(1/lmbda)*np.log(1-p)"
   ]
  },
  {
   "cell_type": "code",
   "execution_count": 143,
   "metadata": {},
   "outputs": [],
   "source": [
    "def simulate_waiting_time(lmbda=1/10, sims=10000):\n",
    "    waiting_time = []\n",
    "    waiting_time2 = []\n",
    "    for i in range(sims):\n",
    "        waiting_time.append(sample_exp_dist(lmbda))\n",
    "        waiting_time2.append(scipy.random.exponential(1/lmbda))\n",
    "    return waiting_time, waiting_time2"
   ]
  },
  {
   "cell_type": "code",
   "execution_count": 197,
   "metadata": {
    "scrolled": true
   },
   "outputs": [
    {
     "name": "stdout",
     "output_type": "stream",
     "text": [
      "10.053768131660382 10.044258955595845\n"
     ]
    }
   ],
   "source": [
    "W,W2 = simulate_waiting_time()\n",
    "print(np.mean(W),np.mean(W2))"
   ]
  },
  {
   "cell_type": "code",
   "execution_count": 204,
   "metadata": {},
   "outputs": [],
   "source": [
    "def simulate_waiting_time_U(lmbda=1/10, sims=10000):\n",
    "    waiting_time = []\n",
    "    waiting_time2 = []\n",
    "    for i in range(sims):\n",
    "        rate = rd.uniform(0,2*lmbda)\n",
    "        waiting_time.append(sample_exp_dist(rate))\n",
    "        waiting_time2.append(scipy.random.exponential(1/rate))\n",
    "    return waiting_time, waiting_time2"
   ]
  },
  {
   "cell_type": "code",
   "execution_count": 205,
   "metadata": {},
   "outputs": [
    {
     "name": "stdout",
     "output_type": "stream",
     "text": [
      "41.997487978135084 38.82094431654302\n"
     ]
    }
   ],
   "source": [
    "W_U, W2_U = simulate_waiting_time_U()\n",
    "print(np.mean(W_U),np.mean(W2_U))"
   ]
  },
  {
   "cell_type": "markdown",
   "metadata": {},
   "source": [
    "When the interarrival time is fixed at 0.1, the expected wait time is 10 (1/(1/10)). This is not that surprising after reading about the Waiting Time Paradox.\n",
    "\n",
    "Now, when the interarrival time is drawn from U(0,0.2), even though the expected interarrival time is still 0.1, now the average wait time becomes much larger (4 times larger than when the intearrival time was fixed), this is likely because of the nature of the exponential distribution, now that we can have values up to twice as big as the fixed lambda, the squared value of that is 4 times larger. I believe it is related that the wait time is 4 times larger in that case then."
   ]
  },
  {
   "cell_type": "code",
   "execution_count": 206,
   "metadata": {},
   "outputs": [],
   "source": [
    "data = {\n",
    "    50: 0.00832,\n",
    "    51: 0.00911,\n",
    "    52: 0.00996,\n",
    "    53: 0.01089,\n",
    "    54: 0.01190,\n",
    "    55: 0.01300,\n",
    "    56: 0.01421,\n",
    "    57: 0.01554,\n",
    "    58: 0.01700,\n",
    "    59: 0.01859,\n",
    "    60: 0.02034,\n",
    "    61: 0.02224,\n",
    "    62: 0.02431,\n",
    "    63: 0.02657,\n",
    "    64: 0.02904,\n",
    "    65: 0.03175,\n",
    "    66: 0.03474,\n",
    "    67: 0.03804,\n",
    "    68: 0.04168,\n",
    "    69: 0.04561,\n",
    "    70: 0.04979,\n",
    "    71: 0.05415,\n",
    "    72: 0.05865,\n",
    "    73: 0.06326,\n",
    "    74: 0.06812,\n",
    "    75: 0.07337,\n",
    "    76: 0.07918,\n",
    "    77: 0.08570,\n",
    "    78: 0.09306,\n",
    "    79: 0.10119,\n",
    "    80: 0.10998,\n",
    "    81: 0.11935,\n",
    "    82: 0.12917,\n",
    "    83: 0.13938,\n",
    "    84: 0.15001,\n",
    "    85: 0.16114,\n",
    "    86: 0.17282,\n",
    "    87: 0.18513,\n",
    "    88: 0.19825,\n",
    "    89: 0.21246,\n",
    "    90: 0.22814,\n",
    "    91: 0.24577,\n",
    "    92: 0.26593,\n",
    "    93: 0.28930,\n",
    "    94: 0.31666,\n",
    "    95: 0.35124,\n",
    "    96: 0.40056,\n",
    "    97: 0.48842,\n",
    "    98: 0.66815,\n",
    "    99: 0.72000,\n",
    "    100: 0.76000,\n",
    "    101: 0.80000,\n",
    "    102: 0.85000,\n",
    "    103: 0.90000,\n",
    "    104: 0.96000,\n",
    "    105: 1.00000}"
   ]
  },
  {
   "cell_type": "code",
   "execution_count": 234,
   "metadata": {},
   "outputs": [],
   "source": [
    "def single_Mae_process():\n",
    "    balance = 150000\n",
    "    age = 50\n",
    "    while True:\n",
    "        if rd.random() < data[age]:\n",
    "            return age,balance\n",
    "        else:\n",
    "            if age < 70:\n",
    "                interest_rate = scipy.random.normal(0.08,0.09)\n",
    "                balance+=balance*interest_rate+10000\n",
    "            else:\n",
    "                interest_rate = scipy.random.normal(0.08,0.09)\n",
    "                balance+=balance*interest_rate-65000\n",
    "            age+=1"
   ]
  },
  {
   "cell_type": "code",
   "execution_count": 240,
   "metadata": {},
   "outputs": [
    {
     "data": {
      "image/png": "[encoded data removed]",
      "text/plain": [
       "<Figure size 576x432 with 1 Axes>"
      ]
     },
     "metadata": {},
     "output_type": "display_data"
    },
    {
     "data": {
      "image/png": "[encoded data removed]",
      "text/plain": [
       "<Figure size 576x432 with 1 Axes>"
      ]
     },
     "metadata": {},
     "output_type": "display_data"
    }
   ],
   "source": [
    "died_at_age = []\n",
    "money_at_death = []\n",
    "for i in range(1000):\n",
    "    age, money = single_Mae_process()\n",
    "    died_at_age.append(age)\n",
    "    money_at_death.append(money)\n",
    "\n",
    "\n",
    "plt.figure(figsize=(8,6))\n",
    "plt.hist(died_at_age)\n",
    "plt.title('Died at age')\n",
    "plt.show()\n",
    "\n",
    "plt.figure(figsize=(8,6))\n",
    "plt.hist(money_at_death)\n",
    "plt.title('Money at death')\n",
    "plt.show()"
   ]
  }
 ],
 "metadata": {
  "kernelspec": {
   "display_name": "Python 3",
   "language": "python",
   "name": "python3"
  },
  "language_info": {
   "codemirror_mode": {
    "name": "ipython",
    "version": 3
   },
   "file_extension": ".py",
   "mimetype": "text/x-python",
   "name": "python",
   "nbconvert_exporter": "python",
   "pygments_lexer": "ipython3",
   "version": "3.7.2"
  }
 },
 "nbformat": 4,
 "nbformat_minor": 2
}
