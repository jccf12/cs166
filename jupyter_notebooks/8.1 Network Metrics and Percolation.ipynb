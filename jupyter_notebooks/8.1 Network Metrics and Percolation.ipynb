{
 "cells": [
  {
   "cell_type": "markdown",
   "metadata": {},
   "source": [
    "Following the mathematical analysis in the textbook, n is defined as the number of nodes in a\n",
    "network, and q is defined as the probability that a random node from the network is not part of\n",
    "the largest connected component (LCC) of the network.\n",
    "The derivation in the textbook shows that q is a solution to the equation\n",
    "$$ q = e^{⟨k⟩ (q−1)}$$ (1)\n",
    "\n",
    "where ⟨k⟩ is the average degree of the network.\n",
    "\n",
    "Question: Given the information above, what is the theoretical estimate for the number of\n",
    "nodes in the LCC, expressed in terms of the known variables, n, q, and ⟨k⟩ ?"
   ]
  },
  {
   "cell_type": "markdown",
   "metadata": {},
   "source": [
    "#### Answer:\n",
    "Since $q$ is the probability that a node is NOT part of the LCC, a given node has probability $1-q$ of being part of the LCC. Therefore, we would expect $n(1-q) = ne^{⟨k⟩(q-1)}$ nodes to be part of the LCC."
   ]
  },
  {
   "cell_type": "code",
   "execution_count": 12,
   "metadata": {},
   "outputs": [],
   "source": [
    "def calculate_q(k):\n",
    "    '''\n",
    "    Use a numerical root finder to determine q from the equation\n",
    "    q = exp(k*(q­1)).\n",
    "    '''\n",
    "    from scipy.optimize import root\n",
    "    return root(lambda q: q - np.exp(k * (q - 1)), 0).x[0]"
   ]
  },
  {
   "cell_type": "code",
   "execution_count": 16,
   "metadata": {},
   "outputs": [],
   "source": [
    "def calculate_LLC(n,k):\n",
    "    q = calculate_q(k)\n",
    "    return n*(1-q)"
   ]
  },
  {
   "cell_type": "code",
   "execution_count": 56,
   "metadata": {},
   "outputs": [
    {
     "name": "stdout",
     "output_type": "stream",
     "text": [
      "999.4693727292405\n"
     ]
    },
    {
     "ename": "TypeError",
     "evalue": "'list' object is not callable",
     "output_type": "error",
     "traceback": [
      "\u001b[0;31m---------------------------------------------------------------------------\u001b[0m",
      "\u001b[0;31mTypeError\u001b[0m                                 Traceback (most recent call last)",
      "\u001b[0;32m<ipython-input-56-47ded1046f78>\u001b[0m in \u001b[0;36m<module>\u001b[0;34m\u001b[0m\n\u001b[1;32m     10\u001b[0m \u001b[0mLLCnorm\u001b[0m \u001b[0;34m=\u001b[0m \u001b[0mnp\u001b[0m\u001b[0;34m.\u001b[0m\u001b[0marray\u001b[0m\u001b[0;34m(\u001b[0m\u001b[0mLLC\u001b[0m\u001b[0;34m)\u001b[0m\u001b[0;34m/\u001b[0m\u001b[0mn\u001b[0m \u001b[0;31m#normalized values\u001b[0m\u001b[0;34m\u001b[0m\u001b[0;34m\u001b[0m\u001b[0m\n\u001b[1;32m     11\u001b[0m \u001b[0mprint\u001b[0m\u001b[0;34m(\u001b[0m\u001b[0mLLC\u001b[0m\u001b[0;34m[\u001b[0m\u001b[0;36m72\u001b[0m\u001b[0;34m]\u001b[0m\u001b[0;34m)\u001b[0m\u001b[0;34m\u001b[0m\u001b[0;34m\u001b[0m\u001b[0m\n\u001b[0;32m---> 12\u001b[0;31m \u001b[0mprint\u001b[0m\u001b[0;34m(\u001b[0m\u001b[0mLLC\u001b[0m\u001b[0;34m(\u001b[0m\u001b[0;36m73\u001b[0m\u001b[0;34m)\u001b[0m\u001b[0;34m)\u001b[0m\u001b[0;34m\u001b[0m\u001b[0;34m\u001b[0m\u001b[0m\n\u001b[0m\u001b[1;32m     13\u001b[0m \u001b[0;31m#Plotting results\u001b[0m\u001b[0;34m\u001b[0m\u001b[0;34m\u001b[0m\u001b[0;34m\u001b[0m\u001b[0m\n\u001b[1;32m     14\u001b[0m \u001b[0mplt\u001b[0m\u001b[0;34m.\u001b[0m\u001b[0mfigure\u001b[0m\u001b[0;34m(\u001b[0m\u001b[0mfigsize\u001b[0m\u001b[0;34m=\u001b[0m\u001b[0;34m(\u001b[0m\u001b[0;36m10\u001b[0m\u001b[0;34m,\u001b[0m \u001b[0;36m8\u001b[0m\u001b[0;34m)\u001b[0m\u001b[0;34m)\u001b[0m\u001b[0;34m\u001b[0m\u001b[0;34m\u001b[0m\u001b[0m\n",
      "\u001b[0;31mTypeError\u001b[0m: 'list' object is not callable"
     ]
    }
   ],
   "source": [
    "import matplotlib.pyplot as plt\n",
    "import numpy as np\n",
    "\n",
    "#linspace for k values\n",
    "K = np.linspace(1, 10, 100)\n",
    "\n",
    "n=1000\n",
    "#calculate LLC for all k values, and fixed n\n",
    "LLC = [calculate_LLC(n,k) for k in K]\n",
    "LLCnorm = np.array(LLC)/n #normalized values\n",
    "print(LLC[72])\n",
    "print(LLC(73))\n",
    "#Plotting results\n",
    "plt.figure(figsize=(10, 8))\n",
    "plt.plot(K, LLCnorm)\n",
    "plt.xlabel(\"k\")\n",
    "plt.ylabel(\"LLC size (n = 1000)\")\n",
    "plt.xticks([1,2,3,4,5,6,7,8,9,10])\n",
    "plt.yticks([0.1,0.2,.3,.4,.5,.6,.7,.8,.9,1])\n",
    "plt.show()"
   ]
  },
  {
   "cell_type": "markdown",
   "metadata": {},
   "source": [
    "We can see how how the LLC size increases in a hyperbolic kind of way, very rapidly at first and then stabilizes and demonstrates an asympotitic behavior. It seems like around \"k=1.5\" the LLC is at least half the size of the full graph in terms of the number of nodes. At around 3 is when the rapid growing stops, and from there the LLC is almost as big as the full graph, and the increase from there is very little since we are just getting \"in\" the last few isolated nodes little by little. At around 5 and 7 is when the LLC seems to have taken over"
   ]
  }
 ],
 "metadata": {
  "kernelspec": {
   "display_name": "Python 3",
   "language": "python",
   "name": "python3"
  },
  "language_info": {
   "codemirror_mode": {
    "name": "ipython",
    "version": 3
   },
   "file_extension": ".py",
   "mimetype": "text/x-python",
   "name": "python",
   "nbconvert_exporter": "python",
   "pygments_lexer": "ipython3",
   "version": "3.7.2"
  }
 },
 "nbformat": 4,
 "nbformat_minor": 2
}
