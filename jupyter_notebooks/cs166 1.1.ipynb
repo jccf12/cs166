{
 "cells": [
  {
   "cell_type": "code",
   "execution_count": 2,
   "metadata": {},
   "outputs": [
    {
     "name": "stdout",
     "output_type": "stream",
     "text": [
      "Mexican\n",
      "['Juan', 'Castro', 22, 'Mexican']\n",
      "Hi! My name is Juan Castro. I am 22 and I am Mexican years old. Nice to meet you!\n",
      "Hi! My name is Luis James. I am 20 and I am Argentinian years old. Nice to meet you!\n",
      "Minerva\n"
     ]
    }
   ],
   "source": [
    "class Person():\n",
    "\n",
    "    def __init__(self, name = 'Mark', last_name = 'Lopez', age = 25, nationality = \"Mexican\"):\n",
    "        self.name = name\n",
    "        self.last_name = last_name\n",
    "        self.age = age\n",
    "        self.nationality = nationality\n",
    "\n",
    "    def introduce_yourself(self):\n",
    "        print('Hi! My name is {} {}. I am {} and I am {} years old. Nice to meet you!'.format(self.name, self.last_name, self.age, self.nationality))\n",
    "\n",
    "    def get_data(self):\n",
    "        return [self.name, self.last_name, self.nationality, self.age]\n",
    "\n",
    "class Student(Person):\n",
    "\n",
    "    def __init__(self, name = 'Luis', last_name = 'James', age = 20, nationality = \"Argentinian\", school = \"Minerva\"):\n",
    "        super().__init__(name,last_name,age,nationality)\n",
    "        self.school = school\n",
    "\n",
    "me = Person(\"Juan\",\"Castro\",22)\n",
    "print(me.nationality)\n",
    "info = me.get_data()\n",
    "print(info)\n",
    "me.introduce_yourself()\n",
    "\n",
    "s = Student()\n",
    "s.introduce_yourself()\n",
    "print(s.school)"
   ]
  },
  {
   "cell_type": "code",
   "execution_count": null,
   "metadata": {},
   "outputs": [],
   "source": []
  }
 ],
 "metadata": {
  "kernelspec": {
   "display_name": "Python 3",
   "language": "python",
   "name": "python3"
  },
  "language_info": {
   "codemirror_mode": {
    "name": "ipython",
    "version": 3
   },
   "file_extension": ".py",
   "mimetype": "text/x-python",
   "name": "python",
   "nbconvert_exporter": "python",
   "pygments_lexer": "ipython3",
   "version": "3.7.2"
  }
 },
 "nbformat": 4,
 "nbformat_minor": 2
}
