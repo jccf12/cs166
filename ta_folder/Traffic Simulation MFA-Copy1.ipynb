{
 "cells": [
  {
   "cell_type": "markdown",
   "metadata": {},
   "source": [
    "## One lane simulation"
   ]
  },
  {
   "cell_type": "code",
   "execution_count": 1,
   "metadata": {},
   "outputs": [],
   "source": [
    "import numpy as np\n",
    "import matplotlib.pyplot as plt\n",
    "\n",
    "class TrafficSimulation:\n",
    "    \n",
    "    def __init__(self, road_length = 100, density = 0.2, max_vel = 5, p_slowdown = 0.5, initial_config = False):\n",
    "        self.road_length = road_length\n",
    "        self.density = density\n",
    "        self.max_vel = max_vel\n",
    "        self.p_slowdown = p_slowdown\n",
    "        if not initial_config:\n",
    "            self.state = np.zeros(road_length)\n",
    "            #initial empty locations (-1s)\n",
    "            init_empty_loc = np.random.choice(list(range(road_length)),int((1-density)*road_length), replace=False)\n",
    "            for loc in init_empty_loc:\n",
    "                self.state[loc] = -1\n",
    "        else:\n",
    "            self.state = np.array(initial_config)\n",
    "    \n",
    "    def update(self):\n",
    "        flows = 0\n",
    "        #move cars\n",
    "        new_state = np.array([-1]*self.road_length)\n",
    "        for i in range(self.road_length):\n",
    "            if self.state[i] >= 0:\n",
    "                if i+self.state[i] >= self.road_length:\n",
    "                       flows+=1\n",
    "                new_state[int((i+self.state[i])%self.road_length)]=self.state[i]\n",
    "        self.state = new_state\n",
    "        \n",
    "        #updating velocities\n",
    "        for i in range(self.road_length):\n",
    "            if self.state[i] >= 0:\n",
    "                new_vel = self.state[i]\n",
    "                #rule 1\n",
    "                if self.state[i] < self.max_vel:\n",
    "                    new_vel+=1\n",
    "\n",
    "                #rule 2\n",
    "                #check distance\n",
    "                distance = 5\n",
    "                for d in range(1,6):\n",
    "                    if self.state[int((i+d)%self.road_length)] != -1:\n",
    "                        distance = d-1\n",
    "                        break\n",
    "                if new_vel > distance:\n",
    "                    new_vel = distance\n",
    "\n",
    "                #rule 3\n",
    "                if new_vel >= 1:\n",
    "                    if np.random.random() < self.p_slowdown:\n",
    "                        new_vel-=1\n",
    "                #update_vel\n",
    "                self.state[i] = new_vel\n",
    "        return flows\n",
    "    \n",
    "    def display(self):\n",
    "        print(''.join('.' if x==-1 else str(int(x)) for x in self.state))"
   ]
  },
  {
   "cell_type": "code",
   "execution_count": 19,
   "metadata": {
    "scrolled": false
   },
   "outputs": [],
   "source": [
    "sim2 = TrafficSimulation(road_length = 100, density = 0.1, max_vel = 5, p_slowdown = 0.5)\n",
    "for i in range(22):\n",
    "    sim2.display()\n",
    "    sim2.update()"
   ]
  },
  {
   "cell_type": "code",
   "execution_count": 20,
   "metadata": {},
   "outputs": [],
   "source": [
    "#function to get flow from simulation\n",
    "def get_q(p = 0.1, n_sims = 20, timesteps = 200, t_0 = 100, display = False):\n",
    "    sim = TrafficSimulation(density = p, max_vel = 5, p_slowdown = 0.5)\n",
    "    flows = []\n",
    "    for i in range(n_sims):\n",
    "        flow_counter = 0\n",
    "        #simulate without collecting data for the first t_0 timesteps\n",
    "        for _ in range(t_0):\n",
    "            sim.update()\n",
    "        for t in range(timesteps):\n",
    "            flow_counter+=sim.update()\n",
    "        flows.append(flow_counter/timesteps)\n",
    "    return sum(flows)/n_sims  "
   ]
  },
  {
   "cell_type": "markdown",
   "metadata": {},
   "source": [
    "Let's say we have a one-lane road with $N$ cells and $k$ cars. For any given cell $i$ at any time $t$, $$p(i^{(t)}\\geq 0) = \\frac{k}{N}$$ and $$p(i^{(t)} = -1) = 1-\\frac{k}{N}$$\n",
    "Now, let's say $v_j^{(t)}$ is the velocity of car $j$ at time $t$ where $j = 1,2,...,k$. \n",
    "\n",
    "At the beginning of each simulation, all cars start with velocity $0$. This means that:\n",
    "\n",
    "$$p(v_j^{(0)}=0) = 1$$ $$p(v_j^{(0)}>0) = 0$$  $$\\forall j = 1,2, ..., k$$\n",
    "\n",
    "We can also derive the following general recursive relation:\n",
    "\n",
    "$$p(v_j^{(t)}=u) = [p(x_{[j+1, j+u+1]} = u*\"-1\") \\cdot p(v_j^{(t-1)} = u-1) + p(x_{[j+1, j+u+1]} = u*\"-1\"+\"c\") \\cdot p(v_j^{(t-1)} \\geq u))] \\cdot (1-p_{slowdown})+ [(p(x_{[j+1, j+u+2]} = (u+1)*\"-1\") \\cdot p(v_j^{(t-1)} = u) + p(x_{[j+1 ,j+u+2]} = (u+1)*\"-1\"+\"c\") \\cdot p(v_j^{(t-1)} \\geq u+1)] \\cdot p_{slowdow} $$ $$\\forall j = 1,2, ..., k$$ for $u=1,2,3,4,5$\n",
    "\n",
    "$$p(v_j^{(t)}=0) = p(x_{j+1}=\"c\") + [p(x_{[j+1,j+2]} = \"-1c\")] \\cdot p_{slowdown}$$\n",
    "\n",
    "$$p(v_j^{(t)}>5) = 0$$\n",
    "\n",
    "where $x_j$ is the position of the $j^{th}$ car and $p(x_{[j+1, j+u+1]} = u*\"-1\")$ is the probability that the next $u$ positions have no cars and $p(x_{[j+1,j+u+1]} = u*\"-1\"+\"c\")$ is the probability that the next $u$ positions have no cars and there's a car with any speed $c$ on position $u+1$.\n",
    "\n",
    "#### Explanation\n",
    "\n",
    "The probability of a car to have speed $u > 0$ at time $t$ is the probability that the speed of that car at the previous timestep $t-1$ was $u-1$ and that the next $u$ cells are empty so the car does not slow down after accelerating to $u$:\n",
    "\n",
    "$$p(x_{[j+1, j+u+1]} = u*\"-1\") \\cdot p(v_j^{(t-1)} = u-1)$$\n",
    "\n",
    "Plus the probability that the speed of the car was at least $u$ and there is a car at distance $u$ so that on the second step of the update rule, the car slows down to speed $u$:\n",
    "\n",
    "$$p(x_{[j+1, j+u+1]} = u*\"-1\"+\"c\") \\cdot p(v_j^{(t-1)} \\geq u))$$\n",
    "\n",
    "The sum of these last two probabilities is multiplied times the probability of the car NOT slowing down to $u-1$ on step 3:\n",
    "\n",
    "$$[p(x_{[j+1, j+u+1]} = u*\"-1\") \\cdot p(v_j^{(t-1)} = u-1) + p(x_{[j+1, j+u+1]} = u*\"-1\"+\"c\") \\cdot p(v_j^{(t-1)} \\geq u))] \\cdot (1-p_{slowdown})$$\n",
    "\n",
    "Now, analogously, the probability of the car going to speed $u+1$ on the first two steps is:\n",
    "\n",
    "$$(p(x_{[j+1, j+u+2]} = (u+1)*\"-1\") \\cdot p(v_j^{(t-1)} = u) + p(x_{[j+1 ,j+u+2]} = (u+1)*\"-1\"+\"c\") \\cdot p(v_j^{(t-1)} \\geq u+1)$$\n",
    "\n",
    "And this last expression is multiplied times the probability that on step 3 the car DOES slow down to $u$:\n",
    "\n",
    "$$[(p(x_{[j+1, j+u+2]} = (u+1)*\"-1\") \\cdot p(v_j^{(t-1)} = u) + p(x_{[j+1 ,j+u+2]} = (u+1)*\"-1\"+\"c\") \\cdot p(v_j^{(t-1)} \\geq u+1)] \\cdot p_{slowdow}$$\n",
    "\n",
    "Putting everything together gives us $p(v_j^{(t)}=u)$\n",
    "\n",
    "Finally, the probability that a car has speed $0$ is the probability that the next cell is occupied by a cell (in that case no matter what, the car will slow down to $0$):\n",
    "\n",
    "$$p(x_{j+1}=\"c\")$$\n",
    "\n",
    "Plus the probability that there's a car at distance $1$ from the car (in which case now matter what was the initial speed, after steps 1 and 2, the car will be at velocity $1$) and then this multiplied times the probability that the car DOES slow down to $0$:\n",
    "\n",
    "$$[p(x_{[j+1,j+2]} = \"-1c\")] \\cdot p_{slowdown}$$\n",
    "\n",
    "Finally, the probability that a car has speed greater than $5$ is $0$."
   ]
  },
  {
   "cell_type": "code",
   "execution_count": 37,
   "metadata": {},
   "outputs": [],
   "source": [
    "#getting probability of a given sequence based on density\n",
    "def pdf_next_seq(seq,k,N):\n",
    "    prod = 1\n",
    "    ones_left = k-1\n",
    "    for i in range(len(seq)):\n",
    "        if seq[i] == \"1\":\n",
    "            prod*=ones_left/(N-1-i)\n",
    "            ones_left-=1\n",
    "        elif seq[i] == \"0\":\n",
    "            prod*=(1-ones_left/(N-1-i))\n",
    "    return prod\n",
    "\n",
    "#class to compute MFA based on equations above\n",
    "class MFA_traffic:\n",
    "    def __init__(self,k=20,N=100,q=0.5):\n",
    "        self.k = k\n",
    "        self.N = N\n",
    "        self.q = q\n",
    "        self.saved = {} #dictionary to save already computed probabilities to make it more time-efficient\n",
    "        \n",
    "    def pdf_velocity(self,v,t):\n",
    "        if \"p_{}_{}\".format(v,t) in self.saved:\n",
    "            return self.saved[\"p_{}_{}\".format(v,t)]\n",
    "        else:\n",
    "            k = self.k\n",
    "            N = self.N\n",
    "            q = self.q\n",
    "            if t == 0:\n",
    "                if v == 0:\n",
    "                    return 1\n",
    "                else:\n",
    "                    return 0\n",
    "            else:\n",
    "                #checking whether probabilities for t-1 are available\n",
    "                pv_0 = self.saved[\"p_{}_{}\".format(v,t)] if \"p_{}_{}\".format(v,t) in self.saved else self.pdf_velocity(0,t-1)\n",
    "                pv_1 = self.saved[\"p_{}_{}\".format(v,t)] if \"p_{}_{}\".format(v,t) in self.saved else self.pdf_velocity(1,t-1)\n",
    "                pv_2 = self.saved[\"p_{}_{}\".format(v,t)] if \"p_{}_{}\".format(v,t) in self.saved else self.pdf_velocity(2,t-1)\n",
    "                pv_3 = self.saved[\"p_{}_{}\".format(v,t)] if \"p_{}_{}\".format(v,t) in self.saved else self.pdf_velocity(3,t-1)\n",
    "                pv_4 = self.saved[\"p_{}_{}\".format(v,t)] if \"p_{}_{}\".format(v,t) in self.saved else self.pdf_velocity(4,t-1)\n",
    "                pv_5 = self.saved[\"p_{}_{}\".format(v,t)] if \"p_{}_{}\".format(v,t) in self.saved else self.pdf_velocity(5,t-1)\n",
    "        \n",
    "                if v == 0:\n",
    "                    result = (k-1)/(N-1) + pdf_next_seq(\"01\",k,N)*q\n",
    "                    self.saved[\"p_{}_{}\".format(v,t)] = result\n",
    "                    return result\n",
    "                elif v == 1:\n",
    "                    #no slowdown\n",
    "                    term1 = pv_0*pdf_next_seq(\"0\",k,N)\n",
    "                    term2 = (pv_1+pv_2+pv_3+pv_4+pv_5)*pdf_next_seq(\"01\",k,N)\n",
    "                    \n",
    "                    #slowdown\n",
    "                    term3 = pv_1*pdf_next_seq(\"00\",k,N)\n",
    "                    term4 = (pv_2+pv_3+pv_4+pv_5)*pdf_next_seq(\"001\",k,N)\n",
    "                    \n",
    "                    result = (term1+term2)*(1-q)+(term3+term4)*q\n",
    "                    self.saved[\"p_{}_{}\".format(v,t)] = result\n",
    "                    return result\n",
    "                elif v == 2:\n",
    "                    #no slowdown\n",
    "                    term1 = pv_1*pdf_next_seq(\"00\",k,N)\n",
    "                    term2 = (pv_2+pv_3+pv_4+pv_5)*pdf_next_seq(\"001\",k,N)\n",
    "                    \n",
    "                    #slowdown\n",
    "                    term3 = pv_2*pdf_next_seq(\"000\",k,N)\n",
    "                    term4 = (pv_3+pv_4+pv_5)*pdf_next_seq(\"0001\",k,N)\n",
    "                    \n",
    "                    result = (term1+term2)*(1-q)+(term3+term4)*q\n",
    "                    self.saved[\"p_{}_{}\".format(v,t)] = result\n",
    "                    return result\n",
    "                elif v == 3:\n",
    "                    #no slowdown\n",
    "                    term1 = pv_2*pdf_next_seq(\"000\",k,N)\n",
    "                    term2 = (pv_3+pv_4+pv_5)*pdf_next_seq(\"0001\",k,N)\n",
    "                    \n",
    "                    #slowdown\n",
    "                    term3 = pv_3*pdf_next_seq(\"0000\",k,N)\n",
    "                    term4 = (pv_4+pv_5)*pdf_next_seq(\"00001\",k,N)\n",
    "                    \n",
    "                    result = (term1+term2)*(1-q)+(term3+term4)*q\n",
    "                    self.saved[\"p_{}_{}\".format(v,t)] = result\n",
    "                    return result\n",
    "                elif v == 4:\n",
    "                    #no slowdown\n",
    "                    term1 = pv_3*pdf_next_seq(\"0000\",k,N)\n",
    "                    term2 = (pv_4+pv_5)*pdf_next_seq(\"00001\",k,N)\n",
    "                    \n",
    "                    #slowdown\n",
    "                    term3 = (pv_4+pv_5)*pdf_next_seq(\"00000\",k,N)\n",
    "                    result = (term1+term2)*(1-q)+term3*q\n",
    "                    \n",
    "                    self.saved[\"p_{}_{}\".format(v,t)] = result\n",
    "                    return result\n",
    "                elif v == 5:\n",
    "                    result = ((pv_4+pv_5)*pdf_next_seq(\"00000\",k,N))*(1-q)\n",
    "                    self.saved[\"p_{}_{}\".format(v,t)] = result\n",
    "                    return result\n",
    "    \n",
    "    def flow(self,t=200):\n",
    "        k = self.k\n",
    "        N = self.N\n",
    "        avg_timestep_size = np.sum([self.pdf_velocity(v,t)*v for v in range(6)])\n",
    "        time_full_lap = N/avg_timestep_size\n",
    "        return k/time_full_lap"
   ]
  },
  {
   "cell_type": "code",
   "execution_count": 64,
   "metadata": {},
   "outputs": [
    {
     "name": "stdout",
     "output_type": "stream",
     "text": [
      "0.6761140296258404\n",
      "0.9999999999999998\n"
     ]
    }
   ],
   "source": [
    "m = MFA_traffic(5,100,0.5)\n",
    "m2 = MFA_traffic(5,100,0)\n",
    "print(np.sum([m.pdf_velocity(v,20) for v in range(6)]))\n",
    "print(np.sum([m2.pdf_velocity(v,20) for v in range(6)]))"
   ]
  },
  {
   "cell_type": "code",
   "execution_count": 78,
   "metadata": {},
   "outputs": [
    {
     "name": "stdout",
     "output_type": "stream",
     "text": [
      "0.5397856112141831\n"
     ]
    }
   ],
   "source": [
    "print(np.sum([m.pdf_velocity(v,5000) for v in range(6)]))"
   ]
  },
  {
   "cell_type": "code",
   "execution_count": 69,
   "metadata": {},
   "outputs": [
    {
     "name": "stdout",
     "output_type": "stream",
     "text": [
      "0.9999999999999998\n"
     ]
    }
   ],
   "source": [
    "print(np.sum([m2.pdf_velocity(v,1000) for v in range(6)]))"
   ]
  },
  {
   "cell_type": "code",
   "execution_count": 51,
   "metadata": {},
   "outputs": [
    {
     "name": "stdout",
     "output_type": "stream",
     "text": [
      "0.9066024871023511\n"
     ]
    }
   ],
   "source": [
    "print(np.sum([m.pdf_velocity(v,4) for v in range(6)]))"
   ]
  },
  {
   "cell_type": "code",
   "execution_count": 63,
   "metadata": {},
   "outputs": [
    {
     "data": {
      "text/plain": [
       "0.0333744256805243"
      ]
     },
     "execution_count": 63,
     "metadata": {},
     "output_type": "execute_result"
    }
   ],
   "source": [
    "m.pdf_velocity(5,4)"
   ]
  },
  {
   "cell_type": "code",
   "execution_count": 62,
   "metadata": {},
   "outputs": [
    {
     "data": {
      "text/plain": [
       "0.5339908108883888"
      ]
     },
     "execution_count": 62,
     "metadata": {},
     "output_type": "execute_result"
    }
   ],
   "source": [
    "m2.pdf_velocity(5,4)"
   ]
  },
  {
   "cell_type": "code",
   "execution_count": 79,
   "metadata": {},
   "outputs": [],
   "source": [
    "#running simulation \n",
    "N=60\n",
    "flow = np.zeros(N)\n",
    "t = np.linspace(0,0.8,N)\n",
    "for i in range(N):\n",
    "    flow[i] = get_q(p=t[i])"
   ]
  },
  {
   "cell_type": "code",
   "execution_count": 23,
   "metadata": {},
   "outputs": [],
   "source": [
    "#running simulation for a larger number of timesteps\n",
    "flow2 = np.zeros(int(N/3))\n",
    "t2 = np.zeros(int(N/3))\n",
    "i = 0\n",
    "for j in range(0,N,3):\n",
    "    t2[i] = t[j]\n",
    "    flow2[i] = get_q(p=t[j],timesteps = 1000)\n",
    "    i+=1"
   ]
  },
  {
   "cell_type": "code",
   "execution_count": 80,
   "metadata": {
    "scrolled": false
   },
   "outputs": [],
   "source": [
    "#calculating MFA for same densities\n",
    "x = np.linspace(0,0.8,81)\n",
    "flows = []\n",
    "for k in range(0,81):\n",
    "    mfa = MFA_traffic(k,100,0.5)\n",
    "    flows.append(mfa.flow(2000))"
   ]
  },
  {
   "cell_type": "code",
   "execution_count": 81,
   "metadata": {},
   "outputs": [
    {
     "data": {
      "image/png": "[encoded data removed]",
      "text/plain": [
       "<Figure size 432x432 with 1 Axes>"
      ]
     },
     "metadata": {
      "needs_background": "light"
     },
     "output_type": "display_data"
    }
   ],
   "source": [
    "plt.figure(figsize=(6,6))\n",
    "plt.scatter(t,flow, color =\"black\", s=3)\n",
    "plt.plot(t2,flow2, color =\"black\", label = \"Simulation results\")\n",
    "plt.plot(x,flows,color =\"red\", label = \"Mean-field approximation\")\n",
    "plt.yticks([0,.1,.2,.3,.4])\n",
    "plt.xticks([0,.2,.4,.6,.8])\n",
    "plt.ylabel('flow [cars per time step]',labelpad=10)\n",
    "plt.xlabel('denisty [cars per site]',labelpad=10)\n",
    "plt.title('Simulation',pad=15)\n",
    "plt.tick_params(labelsize=12)\n",
    "plt.rcParams[\"font.family\"] = \"Courier New\"\n",
    "plt.rcParams[\"font.size\"] = \"20\"\n",
    "plt.legend()\n",
    "plt.show()"
   ]
  },
  {
   "cell_type": "code",
   "execution_count": 18,
   "metadata": {},
   "outputs": [
    {
     "data": {
      "image/png": "[encoded data removed]",
      "text/plain": [
       "<Figure size 432x432 with 1 Axes>"
      ]
     },
     "metadata": {
      "needs_background": "light"
     },
     "output_type": "display_data"
    }
   ],
   "source": [
    "plt.figure(figsize=(6,6))\n",
    "plt.scatter(t,flow, color =\"black\", s=3)\n",
    "plt.plot(t2,flow2, color =\"black\", label = \"Simulation results\")\n",
    "plt.plot(x,flows,color =\"red\", label = \"Mean-field approximation\")\n",
    "plt.yticks([0,.1,.2,.3,.4])\n",
    "plt.xticks([0,.2,.4,.6,.8])\n",
    "plt.ylabel('flow [cars per time step]',labelpad=10)\n",
    "plt.xlabel('denisty [cars per site]',labelpad=10)\n",
    "plt.title('Simulation',pad=15)\n",
    "plt.tick_params(labelsize=12)\n",
    "plt.rcParams[\"font.family\"] = \"Courier New\"\n",
    "plt.rcParams[\"font.size\"] = \"20\"\n",
    "plt.legend()\n",
    "plt.show()"
   ]
  }
 ],
 "metadata": {
  "kernelspec": {
   "display_name": "Python 3",
   "language": "python",
   "name": "python3"
  },
  "language_info": {
   "codemirror_mode": {
    "name": "ipython",
    "version": 3
   },
   "file_extension": ".py",
   "mimetype": "text/x-python",
   "name": "python",
   "nbconvert_exporter": "python",
   "pygments_lexer": "ipython3",
   "version": "3.7.2"
  }
 },
 "nbformat": 4,
 "nbformat_minor": 2
}
